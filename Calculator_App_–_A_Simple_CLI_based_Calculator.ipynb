{
  "nbformat": 4,
  "nbformat_minor": 0,
  "metadata": {
    "colab": {
      "provenance": [],
      "authorship_tag": "ABX9TyP7KULz1ksKiuW2PzddN8+z",
      "include_colab_link": true
    },
    "kernelspec": {
      "name": "python3",
      "display_name": "Python 3"
    },
    "language_info": {
      "name": "python"
    }
  },
  "cells": [
    {
      "cell_type": "markdown",
      "metadata": {
        "id": "view-in-github",
        "colab_type": "text"
      },
      "source": [
        "<a href=\"https://colab.research.google.com/github/satishsalyal/Python-Projects-with-Source-Code/blob/main/Calculator_App_%E2%80%93_A_Simple_CLI_based_Calculator.ipynb\" target=\"_parent\"><img src=\"https://colab.research.google.com/assets/colab-badge.svg\" alt=\"Open In Colab\"/></a>"
      ]
    },
    {
      "cell_type": "markdown",
      "source": [
        "#Calculator App – A Simple CLI-based Calculator"
      ],
      "metadata": {
        "id": "qVT-Y2hPTRfE"
      }
    },
    {
      "cell_type": "markdown",
      "source": [
        "## Introduction:\n",
        "   This is a Command Line Interface (CLI) Calculator that allows users to perform basic arithmetic operations like addition, subtraction, multiplication, division, modulus, and exponentiation. The user can input two numbers and choose an operation, with proper error handling included.\n",
        "\n"
      ],
      "metadata": {
        "id": "VKGCucOHTVGk"
      }
    },
    {
      "cell_type": "markdown",
      "source": [
        "## Features:\n",
        "Supports six operations: +, -, *, /, %, and **.\n",
        "Handles errors, such as division by zero and invalid inputs.\n",
        "Runs continuously until the user chooses to exit."
      ],
      "metadata": {
        "id": "_uq1h_oxTVBj"
      }
    },
    {
      "cell_type": "markdown",
      "source": [
        "## Code Walkthrough:\n",
        "Each arithmetic operation is implemented as a separate function.\n",
        "The calculator() function provides a menu-based system for user interaction.\n",
        "The program takes user input, validates it, and performs the requested operation."
      ],
      "metadata": {
        "id": "pOuXp0KVTVET"
      }
    },
    {
      "cell_type": "markdown",
      "source": [
        "Enhancements:\n",
        "Adding more operations (like square root, logarithms).\n",
        "GUI version using Tkinter or PyQt.\n",
        "Logging calculations for history tracking."
      ],
      "metadata": {
        "id": "Xrl-e8swToNk"
      }
    },
    {
      "cell_type": "code",
      "metadata": {
        "id": "9c9b1538"
      },
      "source": [
        "import sys"
      ],
      "execution_count": 1,
      "outputs": []
    },
    {
      "cell_type": "code",
      "metadata": {
        "id": "e7b7c53a"
      },
      "source": [
        "def add(x, y):\n",
        "    return x + y\n",
        "\n",
        "def subtract(x, y):\n",
        "    return x - y\n",
        "\n",
        "def multiply(x, y):\n",
        "    return x * y\n",
        "\n",
        "def divide(x, y):\n",
        "    if y == 0:\n",
        "        return \"Error: Division by zero is not allowed.\"\n",
        "    return x / y\n",
        "\n",
        "def modulus(x, y):\n",
        "    return x % y\n",
        "\n",
        "def exponentiation(x, y):\n",
        "    return x ** y"
      ],
      "execution_count": 2,
      "outputs": []
    },
    {
      "cell_type": "code",
      "metadata": {
        "id": "bc54b88a"
      },
      "source": [
        "def calculator():\n",
        "    \"\"\"\n",
        "    CLI-based calculator for performing basic arithmetic operations.\n",
        "    \"\"\"\n",
        "    print(\"Simple CLI Calculator\")\n",
        "    print(\"Select an operation:\")\n",
        "    print(\"1. Addition\")\n",
        "    print(\"2. Subtraction\")\n",
        "    print(\"3. Multiplication\")\n",
        "    print(\"4. Division\")\n",
        "    print(\"5. Modulus\")\n",
        "    print(\"6. Exponentiation\")\n",
        "    print(\"7. Exit\")\n",
        "\n",
        "    while True:\n",
        "        choice = input(\"Enter choice (1-7): \")\n",
        "\n",
        "        if choice == '7':\n",
        "            print(\"Exiting calculator. Goodbye!\")\n",
        "            sys.exit()\n",
        "\n",
        "        if choice in ('1', '2', '3', '4', '5', '6'):\n",
        "            try:\n",
        "                num1 = float(input(\"Enter first number: \"))\n",
        "                num2 = float(input(\"Enter second number: \"))\n",
        "            except ValueError:\n",
        "                print(\"Invalid input! Please enter numeric values.\")\n",
        "                continue\n",
        "\n",
        "            if choice == '1':\n",
        "                print(f\"Result: {add(num1, num2)}\")\n",
        "            elif choice == '2':\n",
        "                print(f\"Result: {subtract(num1, num2)}\")\n",
        "            elif choice == '3':\n",
        "                print(f\"Result: {multiply(num1, num2)}\")\n",
        "            elif choice == '4':\n",
        "                print(f\"Result: {divide(num1, num2)}\")\n",
        "            elif choice == '5':\n",
        "                print(f\"Result: {modulus(num1, num2)}\")\n",
        "            elif choice == '6':\n",
        "                print(f\"Result: {exponentiation(num1, num2)}\")\n",
        "        else:\n",
        "            print(\"Invalid choice! Please select a valid operation.\")"
      ],
      "execution_count": 3,
      "outputs": []
    },
    {
      "cell_type": "code",
      "metadata": {
        "colab": {
          "base_uri": "https://localhost:8080/"
        },
        "id": "d9fcfcab",
        "outputId": "f631f3ec-9803-4fe4-ae7f-455270f2a39b"
      },
      "source": [
        "if __name__ == \"__main__\":\n",
        "    calculator()"
      ],
      "execution_count": null,
      "outputs": [
        {
          "output_type": "stream",
          "name": "stdout",
          "text": [
            "Simple CLI Calculator\n",
            "Select an operation:\n",
            "1. Addition\n",
            "2. Subtraction\n",
            "3. Multiplication\n",
            "4. Division\n",
            "5. Modulus\n",
            "6. Exponentiation\n",
            "7. Exit\n"
          ]
        }
      ]
    }
  ]
}