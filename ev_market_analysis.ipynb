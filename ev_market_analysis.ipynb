{
 "cells": [
  {
   "cell_type": "markdown",
   "id": "65f81ddb",
   "metadata": {},
   "source": [
    "# Global Electric Vehicle Market Trends & Forecasting 🚗⚡\n",
    "\n",
    "Key Points of Electric Vehicles Market Size Analysis Project:\n",
    "Examines the global EV industry using data analysis and machine learning techniques.\n",
    "Identifies key trends, adoption rates, and future growth forecasts.\n",
    "Collects and processes real-world EV sales data, government policies, and consumer adoption patterns.\n",
    "Uses Python libraries like Pandas, Matplotlib, and Scikit-learn for analysis and visualization.\n",
    "Creates visualizations of:\n",
    "    Historical sales trends\n",
    "    Regional market shares\n",
    "    Impact of government incentives\n",
    "    Implements machine learning models, including:\n",
    "    Linear Regression\n",
    "    Time Series Forecasting\n",
    "Provides data-driven insights to help policymakers, businesses, and investors understand EV adoption factors.\n",
    "Supports informed decision-making in the rapidly evolving electric vehicle industry. 🚗⚡📊"
   ]
  },
  {
   "cell_type": "markdown",
   "id": "a7b49613",
   "metadata": {},
   "source": [
    "## 1. Importing Required Libraries\n",
    "We will use `pandas` for data handling, `matplotlib` and `seaborn` for visualization, and `scikit-learn` for predictive modeling."
   ]
  },
  {
   "cell_type": "code",
   "execution_count": 1,
   "id": "ed5fc37d",
   "metadata": {},
   "outputs": [
    {
     "name": "stdout",
     "output_type": "stream",
     "text": [
      "Libraries imported successfully!\n"
     ]
    }
   ],
   "source": [
    "\n",
    "import pandas as pd\n",
    "import numpy as np\n",
    "import matplotlib.pyplot as plt\n",
    "import seaborn as sns\n",
    "from sklearn.linear_model import LinearRegression\n",
    "from sklearn.model_selection import train_test_split\n",
    "from sklearn.metrics import mean_absolute_error, r2_score\n",
    "\n",
    "# Configure plotting style\n",
    "sns.set_theme(style=\"darkgrid\")\n",
    "\n",
    "print(\"Libraries imported successfully!\")\n"
   ]
  },
  {
   "cell_type": "markdown",
   "id": "3751bd88",
   "metadata": {},
   "source": [
    "## 2. Loading the Dataset\n",
    "We use a sample dataset of EV market size trends, with historical data on sales and growth rates."
   ]
  },
  {
   "cell_type": "code",
   "execution_count": 2,
   "id": "bab83f5f",
   "metadata": {},
   "outputs": [
    {
     "data": {
      "text/html": [
       "<div>\n",
       "<style scoped>\n",
       "    .dataframe tbody tr th:only-of-type {\n",
       "        vertical-align: middle;\n",
       "    }\n",
       "\n",
       "    .dataframe tbody tr th {\n",
       "        vertical-align: top;\n",
       "    }\n",
       "\n",
       "    .dataframe thead th {\n",
       "        text-align: right;\n",
       "    }\n",
       "</style>\n",
       "<table border=\"1\" class=\"dataframe\">\n",
       "  <thead>\n",
       "    <tr style=\"text-align: right;\">\n",
       "      <th></th>\n",
       "      <th>Year</th>\n",
       "      <th>EV_Sales_Million</th>\n",
       "      <th>Market_Share_%</th>\n",
       "    </tr>\n",
       "  </thead>\n",
       "  <tbody>\n",
       "    <tr>\n",
       "      <th>0</th>\n",
       "      <td>2015</td>\n",
       "      <td>0.5</td>\n",
       "      <td>0.5</td>\n",
       "    </tr>\n",
       "    <tr>\n",
       "      <th>1</th>\n",
       "      <td>2016</td>\n",
       "      <td>0.8</td>\n",
       "      <td>0.9</td>\n",
       "    </tr>\n",
       "    <tr>\n",
       "      <th>2</th>\n",
       "      <td>2017</td>\n",
       "      <td>1.2</td>\n",
       "      <td>1.5</td>\n",
       "    </tr>\n",
       "    <tr>\n",
       "      <th>3</th>\n",
       "      <td>2018</td>\n",
       "      <td>1.8</td>\n",
       "      <td>2.3</td>\n",
       "    </tr>\n",
       "    <tr>\n",
       "      <th>4</th>\n",
       "      <td>2019</td>\n",
       "      <td>2.5</td>\n",
       "      <td>3.2</td>\n",
       "    </tr>\n",
       "  </tbody>\n",
       "</table>\n",
       "</div>"
      ],
      "text/plain": [
       "   Year  EV_Sales_Million  Market_Share_%\n",
       "0  2015               0.5             0.5\n",
       "1  2016               0.8             0.9\n",
       "2  2017               1.2             1.5\n",
       "3  2018               1.8             2.3\n",
       "4  2019               2.5             3.2"
      ]
     },
     "execution_count": 2,
     "metadata": {},
     "output_type": "execute_result"
    }
   ],
   "source": [
    "\n",
    "# Sample dataset (in real projects, use actual datasets from sources like IEA, Bloomberg, etc.)\n",
    "data = {\n",
    "    'Year': [2015, 2016, 2017, 2018, 2019, 2020, 2021, 2022, 2023],\n",
    "    'EV_Sales_Million': [0.5, 0.8, 1.2, 1.8, 2.5, 3.1, 4.2, 5.5, 7.0],\n",
    "    'Market_Share_%': [0.5, 0.9, 1.5, 2.3, 3.2, 4.1, 6.2, 8.5, 11.0]\n",
    "}\n",
    "\n",
    "df = pd.DataFrame(data)\n",
    "df.head()\n"
   ]
  },
  {
   "cell_type": "markdown",
   "id": "72e6a344",
   "metadata": {},
   "source": [
    "## 3. Exploratory Data Analysis (EDA)\n",
    "Let's analyze the EV sales growth and market share over time."
   ]
  },
  {
   "cell_type": "code",
   "execution_count": 3,
   "id": "c43920c3",
   "metadata": {},
   "outputs": [
    {
     "data": {
      "image/png": "[encoded data removed]",
      "text/plain": [
       "<Figure size 720x360 with 1 Axes>"
      ]
     },
     "metadata": {},
     "output_type": "display_data"
    }
   ],
   "source": [
    "\n",
    "# Plot EV Sales over the years\n",
    "plt.figure(figsize=(10,5))\n",
    "sns.lineplot(x=df['Year'], y=df['EV_Sales_Million'], marker='o', label='EV Sales (Million)')\n",
    "plt.xlabel(\"Year\")\n",
    "plt.ylabel(\"EV Sales (Million)\")\n",
    "plt.title(\"Electric Vehicle Sales Growth Over Time\")\n",
    "plt.legend()\n",
    "plt.show()\n"
   ]
  },
  {
   "cell_type": "markdown",
   "id": "89004c46",
   "metadata": {},
   "source": [
    "## 4. Growth Rate Calculation\n",
    "We calculate the annual growth rate of EV sales."
   ]
  },
  {
   "cell_type": "code",
   "execution_count": 4,
   "id": "a956aa3d",
   "metadata": {},
   "outputs": [
    {
     "data": {
      "text/html": [
       "<div>\n",
       "<style scoped>\n",
       "    .dataframe tbody tr th:only-of-type {\n",
       "        vertical-align: middle;\n",
       "    }\n",
       "\n",
       "    .dataframe tbody tr th {\n",
       "        vertical-align: top;\n",
       "    }\n",
       "\n",
       "    .dataframe thead th {\n",
       "        text-align: right;\n",
       "    }\n",
       "</style>\n",
       "<table border=\"1\" class=\"dataframe\">\n",
       "  <thead>\n",
       "    <tr style=\"text-align: right;\">\n",
       "      <th></th>\n",
       "      <th>Year</th>\n",
       "      <th>EV_Sales_Million</th>\n",
       "      <th>Market_Share_%</th>\n",
       "      <th>Growth_Rate_%</th>\n",
       "    </tr>\n",
       "  </thead>\n",
       "  <tbody>\n",
       "    <tr>\n",
       "      <th>0</th>\n",
       "      <td>2015</td>\n",
       "      <td>0.5</td>\n",
       "      <td>0.5</td>\n",
       "      <td>NaN</td>\n",
       "    </tr>\n",
       "    <tr>\n",
       "      <th>1</th>\n",
       "      <td>2016</td>\n",
       "      <td>0.8</td>\n",
       "      <td>0.9</td>\n",
       "      <td>60.000000</td>\n",
       "    </tr>\n",
       "    <tr>\n",
       "      <th>2</th>\n",
       "      <td>2017</td>\n",
       "      <td>1.2</td>\n",
       "      <td>1.5</td>\n",
       "      <td>50.000000</td>\n",
       "    </tr>\n",
       "    <tr>\n",
       "      <th>3</th>\n",
       "      <td>2018</td>\n",
       "      <td>1.8</td>\n",
       "      <td>2.3</td>\n",
       "      <td>50.000000</td>\n",
       "    </tr>\n",
       "    <tr>\n",
       "      <th>4</th>\n",
       "      <td>2019</td>\n",
       "      <td>2.5</td>\n",
       "      <td>3.2</td>\n",
       "      <td>38.888889</td>\n",
       "    </tr>\n",
       "  </tbody>\n",
       "</table>\n",
       "</div>"
      ],
      "text/plain": [
       "   Year  EV_Sales_Million  Market_Share_%  Growth_Rate_%\n",
       "0  2015               0.5             0.5            NaN\n",
       "1  2016               0.8             0.9      60.000000\n",
       "2  2017               1.2             1.5      50.000000\n",
       "3  2018               1.8             2.3      50.000000\n",
       "4  2019               2.5             3.2      38.888889"
      ]
     },
     "execution_count": 4,
     "metadata": {},
     "output_type": "execute_result"
    }
   ],
   "source": [
    "\n",
    "df['Growth_Rate_%'] = df['EV_Sales_Million'].pct_change() * 100\n",
    "df.head()\n"
   ]
  },
  {
   "cell_type": "markdown",
   "id": "e81918a1",
   "metadata": {},
   "source": [
    "## 5. Predicting Future Market Size\n",
    "Using Linear Regression, we predict EV sales for the next few years."
   ]
  },
  {
   "cell_type": "code",
   "execution_count": 5,
   "id": "176d5fdb",
   "metadata": {},
   "outputs": [
    {
     "name": "stdout",
     "output_type": "stream",
     "text": [
      "   Year  Predicted_EV_Sales_Million\n",
      "0  2024                    6.864286\n",
      "1  2025                    7.657143\n",
      "2  2026                    8.450000\n"
     ]
    }
   ],
   "source": [
    "\n",
    "# Prepare data for prediction\n",
    "X = df[['Year']]\n",
    "y = df['EV_Sales_Million']\n",
    "\n",
    "X_train, X_test, y_train, y_test = train_test_split(X, y, test_size=0.2, random_state=42)\n",
    "\n",
    "# Train the model\n",
    "model = LinearRegression()\n",
    "model.fit(X_train, y_train)\n",
    "\n",
    "# Predict future years\n",
    "future_years = pd.DataFrame({'Year': [2024, 2025, 2026]})\n",
    "future_sales = model.predict(future_years)\n",
    "\n",
    "# Display predictions\n",
    "future_years['Predicted_EV_Sales_Million'] = future_sales\n",
    "print(future_years)\n"
   ]
  },
  {
   "cell_type": "markdown",
   "id": "6fc0fdc9",
   "metadata": {},
   "source": [
    "## 6. Model Evaluation\n",
    "We evaluate the model's performance using R² score and MAE."
   ]
  },
  {
   "cell_type": "code",
   "execution_count": 6,
   "id": "a03407c3",
   "metadata": {},
   "outputs": [
    {
     "name": "stdout",
     "output_type": "stream",
     "text": [
      "Model R² Score: 0.99\n",
      "Mean Absolute Error: 0.25\n"
     ]
    }
   ],
   "source": [
    "\n",
    "y_pred = model.predict(X_test)\n",
    "\n",
    "r2 = r2_score(y_test, y_pred)\n",
    "mae = mean_absolute_error(y_test, y_pred)\n",
    "\n",
    "print(f\"Model R² Score: {r2:.2f}\")\n",
    "print(f\"Mean Absolute Error: {mae:.2f}\")\n"
   ]
  },
  {
   "cell_type": "code",
   "execution_count": null,
   "id": "54460da9",
   "metadata": {},
   "outputs": [],
   "source": []
  }
 ],
 "metadata": {
  "kernelspec": {
   "display_name": "Python 3",
   "language": "python",
   "name": "python3"
  },
  "language_info": {
   "codemirror_mode": {
    "name": "ipython",
    "version": 3
   },
   "file_extension": ".py",
   "mimetype": "text/x-python",
   "name": "python",
   "nbconvert_exporter": "python",
   "pygments_lexer": "ipython3",
   "version": "3.8.8"
  }
 },
 "nbformat": 4,
 "nbformat_minor": 5
}
